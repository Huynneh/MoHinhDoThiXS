{
  "nbformat": 4,
  "nbformat_minor": 0,
  "metadata": {
    "colab": {
      "provenance": []
    },
    "kernelspec": {
      "name": "python3",
      "display_name": "Python 3"
    },
    "language_info": {
      "name": "python"
    },
    "widgets": {
      "application/vnd.jupyter.widget-state+json": {
        "ccad3b6550e8440a8ceb3aabf7cfbdda": {
          "model_module": "@jupyter-widgets/controls",
          "model_name": "HBoxModel",
          "model_module_version": "1.5.0",
          "state": {
            "_dom_classes": [],
            "_model_module": "@jupyter-widgets/controls",
            "_model_module_version": "1.5.0",
            "_model_name": "HBoxModel",
            "_view_count": null,
            "_view_module": "@jupyter-widgets/controls",
            "_view_module_version": "1.5.0",
            "_view_name": "HBoxView",
            "box_style": "",
            "children": [
              "IPY_MODEL_94c09797a20343808d7caf36766aa188",
              "IPY_MODEL_ae8959fc371c407f805bad254401038e",
              "IPY_MODEL_33b245414a7f41139447520c4c28f5bd"
            ],
            "layout": "IPY_MODEL_af1d763d582e4cd2aa86190458e81680"
          }
        },
        "94c09797a20343808d7caf36766aa188": {
          "model_module": "@jupyter-widgets/controls",
          "model_name": "HTMLModel",
          "model_module_version": "1.5.0",
          "state": {
            "_dom_classes": [],
            "_model_module": "@jupyter-widgets/controls",
            "_model_module_version": "1.5.0",
            "_model_name": "HTMLModel",
            "_view_count": null,
            "_view_module": "@jupyter-widgets/controls",
            "_view_module_version": "1.5.0",
            "_view_name": "HTMLView",
            "description": "",
            "description_tooltip": null,
            "layout": "IPY_MODEL_4e7e1b65f0814d0fb8cc850f0da64a13",
            "placeholder": "​",
            "style": "IPY_MODEL_c83953a1c9f241ec9bd459aae52b394c",
            "value": "  0%"
          }
        },
        "ae8959fc371c407f805bad254401038e": {
          "model_module": "@jupyter-widgets/controls",
          "model_name": "FloatProgressModel",
          "model_module_version": "1.5.0",
          "state": {
            "_dom_classes": [],
            "_model_module": "@jupyter-widgets/controls",
            "_model_module_version": "1.5.0",
            "_model_name": "FloatProgressModel",
            "_view_count": null,
            "_view_module": "@jupyter-widgets/controls",
            "_view_module_version": "1.5.0",
            "_view_name": "ProgressView",
            "bar_style": "danger",
            "description": "",
            "description_tooltip": null,
            "layout": "IPY_MODEL_cf966cef14104936a00cc0b0b17a2f1f",
            "max": 1000000,
            "min": 0,
            "orientation": "horizontal",
            "style": "IPY_MODEL_72c1a80da2d5460dafd6699b3b223a33",
            "value": 18
          }
        },
        "33b245414a7f41139447520c4c28f5bd": {
          "model_module": "@jupyter-widgets/controls",
          "model_name": "HTMLModel",
          "model_module_version": "1.5.0",
          "state": {
            "_dom_classes": [],
            "_model_module": "@jupyter-widgets/controls",
            "_model_module_version": "1.5.0",
            "_model_name": "HTMLModel",
            "_view_count": null,
            "_view_module": "@jupyter-widgets/controls",
            "_view_module_version": "1.5.0",
            "_view_name": "HTMLView",
            "description": "",
            "description_tooltip": null,
            "layout": "IPY_MODEL_9aea2b93692749aab87f684ed87bcef8",
            "placeholder": "​",
            "style": "IPY_MODEL_5532c824a9bd4f02ad98c5f1ef13026f",
            "value": " 18/1000000 [00:02&lt;21:37:48, 12.84it/s]"
          }
        },
        "af1d763d582e4cd2aa86190458e81680": {
          "model_module": "@jupyter-widgets/base",
          "model_name": "LayoutModel",
          "model_module_version": "1.2.0",
          "state": {
            "_model_module": "@jupyter-widgets/base",
            "_model_module_version": "1.2.0",
            "_model_name": "LayoutModel",
            "_view_count": null,
            "_view_module": "@jupyter-widgets/base",
            "_view_module_version": "1.2.0",
            "_view_name": "LayoutView",
            "align_content": null,
            "align_items": null,
            "align_self": null,
            "border": null,
            "bottom": null,
            "display": null,
            "flex": null,
            "flex_flow": null,
            "grid_area": null,
            "grid_auto_columns": null,
            "grid_auto_flow": null,
            "grid_auto_rows": null,
            "grid_column": null,
            "grid_gap": null,
            "grid_row": null,
            "grid_template_areas": null,
            "grid_template_columns": null,
            "grid_template_rows": null,
            "height": null,
            "justify_content": null,
            "justify_items": null,
            "left": null,
            "margin": null,
            "max_height": null,
            "max_width": null,
            "min_height": null,
            "min_width": null,
            "object_fit": null,
            "object_position": null,
            "order": null,
            "overflow": null,
            "overflow_x": null,
            "overflow_y": null,
            "padding": null,
            "right": null,
            "top": null,
            "visibility": null,
            "width": null
          }
        },
        "4e7e1b65f0814d0fb8cc850f0da64a13": {
          "model_module": "@jupyter-widgets/base",
          "model_name": "LayoutModel",
          "model_module_version": "1.2.0",
          "state": {
            "_model_module": "@jupyter-widgets/base",
            "_model_module_version": "1.2.0",
            "_model_name": "LayoutModel",
            "_view_count": null,
            "_view_module": "@jupyter-widgets/base",
            "_view_module_version": "1.2.0",
            "_view_name": "LayoutView",
            "align_content": null,
            "align_items": null,
            "align_self": null,
            "border": null,
            "bottom": null,
            "display": null,
            "flex": null,
            "flex_flow": null,
            "grid_area": null,
            "grid_auto_columns": null,
            "grid_auto_flow": null,
            "grid_auto_rows": null,
            "grid_column": null,
            "grid_gap": null,
            "grid_row": null,
            "grid_template_areas": null,
            "grid_template_columns": null,
            "grid_template_rows": null,
            "height": null,
            "justify_content": null,
            "justify_items": null,
            "left": null,
            "margin": null,
            "max_height": null,
            "max_width": null,
            "min_height": null,
            "min_width": null,
            "object_fit": null,
            "object_position": null,
            "order": null,
            "overflow": null,
            "overflow_x": null,
            "overflow_y": null,
            "padding": null,
            "right": null,
            "top": null,
            "visibility": null,
            "width": null
          }
        },
        "c83953a1c9f241ec9bd459aae52b394c": {
          "model_module": "@jupyter-widgets/controls",
          "model_name": "DescriptionStyleModel",
          "model_module_version": "1.5.0",
          "state": {
            "_model_module": "@jupyter-widgets/controls",
            "_model_module_version": "1.5.0",
            "_model_name": "DescriptionStyleModel",
            "_view_count": null,
            "_view_module": "@jupyter-widgets/base",
            "_view_module_version": "1.2.0",
            "_view_name": "StyleView",
            "description_width": ""
          }
        },
        "cf966cef14104936a00cc0b0b17a2f1f": {
          "model_module": "@jupyter-widgets/base",
          "model_name": "LayoutModel",
          "model_module_version": "1.2.0",
          "state": {
            "_model_module": "@jupyter-widgets/base",
            "_model_module_version": "1.2.0",
            "_model_name": "LayoutModel",
            "_view_count": null,
            "_view_module": "@jupyter-widgets/base",
            "_view_module_version": "1.2.0",
            "_view_name": "LayoutView",
            "align_content": null,
            "align_items": null,
            "align_self": null,
            "border": null,
            "bottom": null,
            "display": null,
            "flex": null,
            "flex_flow": null,
            "grid_area": null,
            "grid_auto_columns": null,
            "grid_auto_flow": null,
            "grid_auto_rows": null,
            "grid_column": null,
            "grid_gap": null,
            "grid_row": null,
            "grid_template_areas": null,
            "grid_template_columns": null,
            "grid_template_rows": null,
            "height": null,
            "justify_content": null,
            "justify_items": null,
            "left": null,
            "margin": null,
            "max_height": null,
            "max_width": null,
            "min_height": null,
            "min_width": null,
            "object_fit": null,
            "object_position": null,
            "order": null,
            "overflow": null,
            "overflow_x": null,
            "overflow_y": null,
            "padding": null,
            "right": null,
            "top": null,
            "visibility": null,
            "width": null
          }
        },
        "72c1a80da2d5460dafd6699b3b223a33": {
          "model_module": "@jupyter-widgets/controls",
          "model_name": "ProgressStyleModel",
          "model_module_version": "1.5.0",
          "state": {
            "_model_module": "@jupyter-widgets/controls",
            "_model_module_version": "1.5.0",
            "_model_name": "ProgressStyleModel",
            "_view_count": null,
            "_view_module": "@jupyter-widgets/base",
            "_view_module_version": "1.2.0",
            "_view_name": "StyleView",
            "bar_color": null,
            "description_width": ""
          }
        },
        "9aea2b93692749aab87f684ed87bcef8": {
          "model_module": "@jupyter-widgets/base",
          "model_name": "LayoutModel",
          "model_module_version": "1.2.0",
          "state": {
            "_model_module": "@jupyter-widgets/base",
            "_model_module_version": "1.2.0",
            "_model_name": "LayoutModel",
            "_view_count": null,
            "_view_module": "@jupyter-widgets/base",
            "_view_module_version": "1.2.0",
            "_view_name": "LayoutView",
            "align_content": null,
            "align_items": null,
            "align_self": null,
            "border": null,
            "bottom": null,
            "display": null,
            "flex": null,
            "flex_flow": null,
            "grid_area": null,
            "grid_auto_columns": null,
            "grid_auto_flow": null,
            "grid_auto_rows": null,
            "grid_column": null,
            "grid_gap": null,
            "grid_row": null,
            "grid_template_areas": null,
            "grid_template_columns": null,
            "grid_template_rows": null,
            "height": null,
            "justify_content": null,
            "justify_items": null,
            "left": null,
            "margin": null,
            "max_height": null,
            "max_width": null,
            "min_height": null,
            "min_width": null,
            "object_fit": null,
            "object_position": null,
            "order": null,
            "overflow": null,
            "overflow_x": null,
            "overflow_y": null,
            "padding": null,
            "right": null,
            "top": null,
            "visibility": null,
            "width": null
          }
        },
        "5532c824a9bd4f02ad98c5f1ef13026f": {
          "model_module": "@jupyter-widgets/controls",
          "model_name": "DescriptionStyleModel",
          "model_module_version": "1.5.0",
          "state": {
            "_model_module": "@jupyter-widgets/controls",
            "_model_module_version": "1.5.0",
            "_model_name": "DescriptionStyleModel",
            "_view_count": null,
            "_view_module": "@jupyter-widgets/base",
            "_view_module_version": "1.2.0",
            "_view_name": "StyleView",
            "description_width": ""
          }
        }
      }
    }
  },
  "cells": [
    {
      "cell_type": "markdown",
      "source": [
        "#**A PROBABILISTIC GRAPHICAL MODEL APPROACH TO HEART DISEASE PREDICTION USING UCI CLEVELAND DATASET**\n"
      ],
      "metadata": {
        "id": "HhbB49c3qlXB"
      }
    },
    {
      "cell_type": "markdown",
      "source": [
        "#***Abstract***\n"
      ],
      "metadata": {
        "id": "hwD0TYpvSUbI"
      }
    },
    {
      "cell_type": "markdown",
      "source": [
        "Heart disease is one of the leading causes of mortality worldwide. Early prediction of heart disease risk can significantly improve patient outcomes by enabling timely intervention. This study investigates the application of probabilistic graphical models (PGMs), specifically Bayesian Networks, to predict the likelihood of heart disease using the UCI Cleveland Heart Disease dataset. We employed two popular PGM libraries, pgmpy and pomegranate, to construct, learn, and infer Bayesian models. Structure learning was performed via Hill-Climb Search in pgmpy, while pomegranate was applied with both predefined and learned structures. Experiments compared model accuracy, inference speed, and interpretability."
      ],
      "metadata": {
        "id": "0al1VSvGSX3Y"
      }
    },
    {
      "cell_type": "markdown",
      "source": [
        "## ***I. Intoduction***"
      ],
      "metadata": {
        "id": "2h9VN3JUrOd8"
      }
    },
    {
      "cell_type": "markdown",
      "source": [
        "Cardiovascular diseases (CVDs) represent a major health burden globally, responsible for over 17 million deaths annually. Predicting the probability of heart disease is essential for preventive healthcare and clinical decision-making. Traditional machine learning approaches such as logistic regression, support vector machines, or neural networks achieve high predictive accuracy but often lack interpretability.\n",
        "\n",
        "Probabilistic Graphical Models (PGMs), particularly Bayesian Networks (BNs), provide a principled framework for modeling conditional dependencies among variables. Unlike black-box classifiers, BNs yield interpretable probabilistic relationships, allowing clinicians to understand how risk factors such as age, cholesterol level, or chest pain influence heart disease outcomes.\n",
        "\n",
        "This report explores the application of Bayesian Networks to heart disease prediction, focusing on two state-of-the-art open-source libraries: pgmpy and pomegranate."
      ],
      "metadata": {
        "id": "RKl0m3z1re9S"
      }
    },
    {
      "cell_type": "markdown",
      "source": [
        "## ***II. Related works***"
      ],
      "metadata": {
        "id": "DDY5ACiPsAqa"
      }
    },
    {
      "cell_type": "markdown",
      "source": [
        "Bayesian networks have been applied to medical diagnosis tasks for decades. Early works demonstrated their utility in modeling causal relationships in disease progression. For heart disease, several studies have benchmarked BNs on the UCI Cleveland dataset, reporting competitive performance compared to logistic regression and decision trees.\n",
        "\n",
        "Recent frameworks such as pgmpy (Python) provide comprehensive support for Bayesian Network learning and inference . Meanwhile, pomegranate offers high-performance implementations of probabilistic models, including Bayesian Networks and Hidden Markov Models . Comparative studies show that pgmpy is often favored for exact inference, while pomegranate provides speed and flexibility with approximate inference ."
      ],
      "metadata": {
        "id": "VDQkMzSHsCwy"
      }
    },
    {
      "cell_type": "markdown",
      "source": [
        "## ***III. Problem Statements and Related Definitions***"
      ],
      "metadata": {
        "id": "tapu8f8YsO4C"
      }
    },
    {
      "cell_type": "markdown",
      "source": [
        "### ***3.1 Problem Statement***"
      ],
      "metadata": {
        "id": "Tjqyyq9DscG5"
      }
    },
    {
      "cell_type": "markdown",
      "source": [
        "Given a dataset of patient attributes $ X = \\{x_1, x_2, \\ldots, x_n\\} $, including demographic and clinical risk factors, the goal is to predict the target variable $ Y $ representing the presence of heart disease.\n",
        "\n",
        "Formally:\n",
        "\n",
        "- **Learning phase**: Given training data $ (X, Y) $, learn the Bayesian Network structure $ G $ and conditional probability tables (CPTs) $ \\theta $.\n",
        "\n",
        "- **Inference phase**: For a new patient with partial evidence $ X_e \\subseteq X $, compute the posterior distribution:\n",
        "\n",
        "$$\n",
        "P(Y \\mid X_e, G, \\theta)\n",
        "$$"
      ],
      "metadata": {
        "id": "QrZOSHyXshWR"
      }
    },
    {
      "cell_type": "markdown",
      "source": [
        "### ***3.2 Related Definitions***"
      ],
      "metadata": {
        "id": "QiwKLz-0sUIz"
      }
    },
    {
      "cell_type": "markdown",
      "source": [
        "**Probabilistic Graphical Model (PGM):**  \n",
        "A statistical model that represents the joint probability distribution of a set of random variables using a graph, where nodes correspond to variables and edges encode conditional dependencies.  \n",
        "\n",
        "**Bayesian Network (BN):**  \n",
        "A directed acyclic graph (DAG) representing variables and their conditional dependencies. The joint distribution factorizes as:  \n",
        "\n",
        "$$\n",
        "P(X_1, X_2, \\ldots, X_n) = \\prod_{i=1}^n P(X_i \\mid Pa(X_i))\n",
        "$$  \n",
        "\n",
        "where $Pa(X_i)$ denotes the parent set of $X_i$.  \n",
        "\n",
        "**Structure Learning:**  \n",
        "The process of determining the network structure $G$ from data, typically using scoring functions (e.g., BIC, K2) combined with search strategies (e.g., Hill-Climb Search).  \n",
        "\n",
        "**Parameter Learning:**  \n",
        "The estimation of CPTs $\\theta$, usually performed via Maximum Likelihood Estimation (MLE) or Bayesian Estimation, based on the given network structure.  \n",
        "\n",
        "**Inference:**  \n",
        "The computation of posterior probabilities of unobserved variables given observed evidence.  \n",
        "For example, estimating:  \n",
        "\n",
        "$$\n",
        "P(Y=1 \\mid X_e)\n",
        "$$  \n",
        "\n",
        "allows us to infer the likelihood of heart disease for a new patient based on available risk factors.  \n"
      ],
      "metadata": {
        "id": "pN1-96wfsoex"
      }
    },
    {
      "cell_type": "code",
      "source": [
        "# =======================================================\n",
        "# 1. Setup & Imports\n",
        "# =======================================================\n",
        "!pip install --quiet pgmpy pomegranate matplotlib networkx seaborn scikit-learn pandas\n",
        "\n",
        "import time\n",
        "import numpy as np\n",
        "import pandas as pd\n",
        "import matplotlib.pyplot as plt\n",
        "import networkx as nx\n",
        "import seaborn as sns\n",
        "\n",
        "from sklearn.model_selection import train_test_split\n",
        "from sklearn.preprocessing import KBinsDiscretizer\n",
        "from sklearn.metrics import accuracy_score, roc_auc_score, confusion_matrix, brier_score_loss, roc_curve, auc\n",
        "\n",
        "# pgmpy\n",
        "from pgmpy.estimators import HillClimbSearch\n",
        "from pgmpy.models import DiscreteBayesianNetwork as PgmpyBN\n",
        "from pgmpy.estimators import MaximumLikelihoodEstimator\n",
        "from pgmpy.inference import VariableElimination\n",
        "\n",
        "# pomegranate\n",
        "from pomegranate.bayesian_network import BayesianNetwork as PomBN\n",
        "from sklearn.impute import SimpleImputer\n",
        "\n",
        "sns.set(style=\"whitegrid\")\n"
      ],
      "metadata": {
        "id": "QbDmHN11lDuV",
        "colab": {
          "base_uri": "https://localhost:8080/"
        },
        "outputId": "09254437-732a-4840-869b-1c0ea28d2291"
      },
      "execution_count": 1,
      "outputs": [
        {
          "output_type": "stream",
          "name": "stdout",
          "text": [
            "  Preparing metadata (setup.py) ... \u001b[?25l\u001b[?25hdone\n",
            "\u001b[2K   \u001b[90m━━━━━━━━━━━━━━━━━━━━━━━━━━━━━━━━━━━━━━━━\u001b[0m \u001b[32m2.0/2.0 MB\u001b[0m \u001b[31m23.1 MB/s\u001b[0m eta \u001b[36m0:00:00\u001b[0m\n",
            "\u001b[2K   \u001b[90m━━━━━━━━━━━━━━━━━━━━━━━━━━━━━━━━━━━━━━━━\u001b[0m \u001b[32m98.4/98.4 kB\u001b[0m \u001b[31m6.8 MB/s\u001b[0m eta \u001b[36m0:00:00\u001b[0m\n",
            "\u001b[2K   \u001b[90m━━━━━━━━━━━━━━━━━━━━━━━━━━━━━━━━━━━━━━━━\u001b[0m \u001b[32m756.0/756.0 kB\u001b[0m \u001b[31m39.6 MB/s\u001b[0m eta \u001b[36m0:00:00\u001b[0m\n",
            "\u001b[2K   \u001b[90m━━━━━━━━━━━━━━━━━━━━━━━━━━━━━━━━━━━━━━━━\u001b[0m \u001b[32m154.7/154.7 kB\u001b[0m \u001b[31m11.8 MB/s\u001b[0m eta \u001b[36m0:00:00\u001b[0m\n",
            "\u001b[?25h  Building wheel for apricot-select (setup.py) ... \u001b[?25l\u001b[?25hdone\n"
          ]
        }
      ]
    },
    {
      "cell_type": "code",
      "source": [
        "# =======================================================\n",
        "# 2. Load Dataset (Heart Disease UCI)\n",
        "# =======================================================\n",
        "df = pd.read_csv(\"heart_disease_uci.csv\")\n",
        "\n",
        "target_col = \"num\"\n",
        "df[target_col] = df[target_col].apply(lambda x: 1 if x > 0 else 0)\n",
        "\n",
        "drop_cols = [c for c in [\"id\", \"dataset\"] if c in df.columns]\n",
        "df = df.drop(columns=drop_cols)\n",
        "\n",
        "print(\"Remaining cols:\", df.columns.tolist())\n",
        "print(\"Target distribution:\", df[target_col].value_counts(normalize=True))"
      ],
      "metadata": {
        "id": "Hh5uHBXIq1WS",
        "colab": {
          "base_uri": "https://localhost:8080/"
        },
        "outputId": "1fb4c044-7abd-43d8-f175-c8d5802f5df1"
      },
      "execution_count": 2,
      "outputs": [
        {
          "output_type": "stream",
          "name": "stdout",
          "text": [
            "Remaining cols: ['age', 'sex', 'cp', 'trestbps', 'chol', 'fbs', 'restecg', 'thalch', 'exang', 'oldpeak', 'slope', 'ca', 'thal', 'num']\n",
            "Target distribution: num\n",
            "1    0.553261\n",
            "0    0.446739\n",
            "Name: proportion, dtype: float64\n"
          ]
        }
      ]
    },
    {
      "cell_type": "code",
      "source": [
        "# =======================================================\n",
        "# 3. Preprocessing (cho pgmpy: discretization)\n",
        "# =======================================================\n",
        "features = [c for c in df.columns if c != target_col]\n",
        "cont_vars = [c for c in features if df[c].dtype != \"object\" and df[c].nunique() > 10]\n",
        "\n",
        "imputer = SimpleImputer(strategy=\"median\")\n",
        "df[cont_vars] = imputer.fit_transform(df[cont_vars])\n",
        "\n",
        "disc = KBinsDiscretizer(n_bins=3, encode=\"ordinal\", strategy=\"quantile\")\n",
        "df_disc = df.copy()\n",
        "if cont_vars:\n",
        "    df_disc[cont_vars] = disc.fit_transform(df[cont_vars])\n",
        "\n",
        "for c in df_disc.columns:\n",
        "    df_disc[c] = df_disc[c].astype(str)"
      ],
      "metadata": {
        "id": "4qd5d1g9acqW"
      },
      "execution_count": 3,
      "outputs": []
    },
    {
      "cell_type": "code",
      "source": [
        "# =======================================================\n",
        "# 4. Train/Test Split\n",
        "# =======================================================\n",
        "train_df, test_df = train_test_split(df_disc, test_size=0.1, stratify=df_disc[target_col], random_state=42)\n",
        "X_test = test_df.drop(columns=[target_col])\n",
        "y_test = test_df[target_col].astype(int).values\n",
        "\n",
        "print(\"Train:\", train_df.shape, \" Test:\", test_df.shape)\n"
      ],
      "metadata": {
        "id": "cgslrM6gbO_G",
        "colab": {
          "base_uri": "https://localhost:8080/"
        },
        "outputId": "d98e76da-1970-46f3-f194-49997e84d862"
      },
      "execution_count": 4,
      "outputs": [
        {
          "output_type": "stream",
          "name": "stdout",
          "text": [
            "Train: (828, 14)  Test: (92, 14)\n"
          ]
        }
      ]
    },
    {
      "cell_type": "code",
      "source": [
        "# =======================================================\n",
        "# 5. Bayesian Network với pgmpy\n",
        "# =======================================================\n",
        "start = time.time()\n",
        "hc = HillClimbSearch(train_df)\n",
        "best_model = hc.estimate(max_indegree=3, tabu_length=10)\n",
        "pgmpy_time = time.time() - start\n",
        "\n",
        "print(\"Learned edges (pgmpy):\", best_model.edges())\n",
        "\n",
        "# Vẽ cấu trúc mạng\n",
        "plt.figure(figsize=(10,6))\n",
        "G = nx.DiGraph()\n",
        "G.add_nodes_from(train_df.columns)\n",
        "G.add_edges_from(best_model.edges())\n",
        "pos = nx.spring_layout(G, seed=1)\n",
        "nx.draw(G, pos, with_labels=True, node_size=1200, node_color='lightblue', font_size=8, arrowsize=15)\n",
        "plt.title(\"Bayesian Network Structure (pgmpy)\")\n",
        "plt.show()\n",
        "\n",
        "# Parameter learning\n",
        "model_pgmpy = PgmpyBN(best_model.edges())\n",
        "model_pgmpy.fit(train_df, estimator=MaximumLikelihoodEstimator)\n",
        "infer_pgmpy = VariableElimination(model_pgmpy)\n",
        "\n",
        "def pgmpy_predict(df_features):\n",
        "    preds, probs = [], []\n",
        "    for _, row in df_features.iterrows():\n",
        "        evidence = row.to_dict()\n",
        "        try:\n",
        "            q = infer_pgmpy.query(variables=[target_col], evidence=evidence, show_progress=False)\n",
        "            states = q.state_names[target_col]\n",
        "            vals = q.values.flatten()\n",
        "            if np.isnan(vals).any():\n",
        "                p1 = 0.5\n",
        "            else:\n",
        "                p1 = float(vals[states.index('1')]) if '1' in states else 0.0\n",
        "        except:\n",
        "            p1 = 0.5\n",
        "        probs.append(p1)\n",
        "        preds.append(1 if p1 >= 0.5 else 0)\n",
        "    return np.array(preds), np.array(probs)\n",
        "\n",
        "pgm_preds, pgm_probs = pgmpy_predict(X_test)\n",
        "\n",
        "print(\"pgmpy Accuracy:\", accuracy_score(y_test, pgm_preds))\n",
        "print(\"pgmpy AUC:\", roc_auc_score(y_test, pgm_probs))\n",
        "print(\"pgmpy Train time: %.2fs\" % pgmpy_time)"
      ],
      "metadata": {
        "colab": {
          "base_uri": "https://localhost:8080/",
          "height": 815,
          "referenced_widgets": [
            "ccad3b6550e8440a8ceb3aabf7cfbdda",
            "94c09797a20343808d7caf36766aa188",
            "ae8959fc371c407f805bad254401038e",
            "33b245414a7f41139447520c4c28f5bd",
            "af1d763d582e4cd2aa86190458e81680",
            "4e7e1b65f0814d0fb8cc850f0da64a13",
            "c83953a1c9f241ec9bd459aae52b394c",
            "cf966cef14104936a00cc0b0b17a2f1f",
            "72c1a80da2d5460dafd6699b3b223a33",
            "9aea2b93692749aab87f684ed87bcef8",
            "5532c824a9bd4f02ad98c5f1ef13026f"
          ]
        },
        "id": "RwXg085VbieM",
        "outputId": "5ea27475-954e-4f1b-97a6-b895d915cdf6"
      },
      "execution_count": 8,
      "outputs": [
        {
          "output_type": "display_data",
          "data": {
            "text/plain": [
              "  0%|          | 0/1000000 [00:00<?, ?it/s]"
            ],
            "application/vnd.jupyter.widget-view+json": {
              "version_major": 2,
              "version_minor": 0,
              "model_id": "ccad3b6550e8440a8ceb3aabf7cfbdda"
            }
          },
          "metadata": {}
        },
        {
          "output_type": "stream",
          "name": "stdout",
          "text": [
            "Learned edges (pgmpy): [('cp', 'num'), ('fbs', 'chol'), ('thalch', 'exang'), ('exang', 'oldpeak'), ('exang', 'cp'), ('exang', 'trestbps'), ('exang', 'num'), ('oldpeak', 'slope'), ('slope', 'ca'), ('ca', 'thal'), ('ca', 'restecg'), ('thal', 'sex'), ('num', 'sex'), ('num', 'age'), ('num', 'fbs'), ('num', 'ca'), ('num', 'oldpeak'), ('num', 'thal')]\n"
          ]
        },
        {
          "output_type": "display_data",
          "data": {
            "text/plain": [
              "<Figure size 1000x600 with 1 Axes>"
            ],
            "image/png": "[encoded data removed]"
          },
          "metadata": {}
        },
        {
          "output_type": "stream",
          "name": "stdout",
          "text": [
            "pgmpy Accuracy: 0.7717391304347826\n",
            "pgmpy AUC: 0.8101386896221903\n",
            "pgmpy Train time: 2.58s\n"
          ]
        },
        {
          "output_type": "stream",
          "name": "stderr",
          "text": [
            "/usr/local/lib/python3.12/dist-packages/pgmpy/factors/discrete/DiscreteFactor.py:489: RuntimeWarning: invalid value encountered in divide\n",
            "  phi.values = phi.values / (phi.values.sum())\n"
          ]
        }
      ]
    },
    {
      "cell_type": "code",
      "source": [
        "import time\n",
        "import numpy as np\n",
        "import pandas as pd\n",
        "import networkx as nx\n",
        "import matplotlib.pyplot as plt\n",
        "from sklearn.metrics import accuracy_score, roc_auc_score\n",
        "\n",
        "# Import cho Markov Network và Factors\n",
        "from pgmpy.models import MarkovNetwork\n",
        "from pgmpy.factors.discrete import DiscreteFactor # Dùng để định nghĩa tham số thủ công\n",
        "from pgmpy.sampling import GibbsSampling\n",
        "\n",
        "target_col = \"num\"\n",
        "mrf_start = time.time()\n",
        "\n",
        "# 1. ĐỊNH NGHĨA CẤU TRÚC (VÔ HƯỚNG)\n",
        "# Định nghĩa các cạnh vô hướng để tạo ra 2 cụm (cliques)\n",
        "mrf_edges = [\n",
        "    (target_col, 'sex'), (target_col, 'cp'), ('sex', 'cp'), # Clique 1: num, sex, cp\n",
        "    ('age', 'chol'),                                        # Clique 2: age, chol\n",
        "    ('cp', 'thal')                                          # Liên kết cp và thal\n",
        "]\n",
        "model_mrf = MarkovNetwork(mrf_edges)\n",
        "\n",
        "# 2. HỌC THAM SỐ (PARAMETER LEARNING)\n",
        "# Lấy các giá trị category duy nhất của các cột\n",
        "def get_unique_lens(cols):\n",
        "    \"\"\"Lấy độ dài các trạng thái duy nhất, dùng cho kích thước Factor.\"\"\"\n",
        "    return [len(train_df[col].unique()) for col in cols]\n",
        "\n",
        "# Factor 1: num, sex, cp\n",
        "try:\n",
        "    cols1 = [target_col, 'sex', 'cp']\n",
        "    lens1 = get_unique_lens(cols1)\n",
        "    factor_1 = DiscreteFactor(cols1, lens1, np.random.rand(np.prod(lens1)))\n",
        "    factor_1.normalize()\n",
        "    model_mrf.add_factors(factor_1)\n",
        "except Exception as e:\n",
        "    print(f\"Bỏ qua Factor 1 do lỗi định nghĩa: {e}\")\n",
        "\n",
        "# Factor 2: age, chol\n",
        "try:\n",
        "    cols2 = ['age', 'chol']\n",
        "    lens2 = get_unique_lens(cols2)\n",
        "    factor_2 = DiscreteFactor(cols2, lens2, np.random.rand(np.prod(lens2)))\n",
        "    factor_2.normalize()\n",
        "    model_mrf.add_factors(factor_2)\n",
        "except Exception as e:\n",
        "    print(f\"Bỏ qua Factor 2 do lỗi định nghĩa: {e}\")\n",
        "\n",
        "# Factor 3: cp, thal\n",
        "try:\n",
        "    cols3 = ['cp', 'thal']\n",
        "    lens3 = get_unique_lens(cols3)\n",
        "    factor_3 = DiscreteFactor(cols3, lens3, np.random.rand(np.prod(lens3)))\n",
        "    factor_3.normalize()\n",
        "    model_mrf.add_factors(factor_3)\n",
        "except Exception as e:\n",
        "    print(f\"Bỏ qua Factor 3 do lỗi định nghĩa: {e}\")\n",
        "\n",
        "print(\"Học tham số Markov Network thành công (Sử dụng tham số ngẫu nhiên để demo cấu trúc).\")\n",
        "\n",
        "\n",
        "# 3. HÀM DỰ ĐOÁN (PREDICTION) - Sử dụng Gibbs Sampling\n",
        "sampler_mrf = GibbsSampling(model_mrf)\n",
        "\n",
        "def pgmpy_mrf_predict(df_features, n_samples=1000):\n",
        "    preds, probs = [], []\n",
        "    for _, row in df_features.iterrows():\n",
        "        # Lấy bằng chứng (evidence) từ hàng test\n",
        "        evidence = row.drop(target_col, errors='ignore').dropna().to_dict()\n",
        "\n",
        "        try:\n",
        "            # Lấy mẫu (sampling) để ước tính xác suất\n",
        "            samples = sampler_mrf.sample(evidence=evidence, size=n_samples, show_progress=False)\n",
        "\n",
        "            # Tính xác suất P(target_col = '1')\n",
        "            if target_col in samples.columns:\n",
        "                p_dist = samples[target_col].value_counts(normalize=True).get('1', 0.0)\n",
        "                p1 = p_dist\n",
        "            else:\n",
        "                p1 = 0.5\n",
        "\n",
        "        except Exception as e:\n",
        "            p1 = 0.5\n",
        "\n",
        "        probs.append(p1)\n",
        "        preds.append(1 if p1 >= 0.5 else 0)\n",
        "\n",
        "    return np.array(preds), np.array(probs)\n",
        "\n",
        "mrf_preds, mrf_probs = pgmpy_mrf_predict(X_test)\n",
        "\n",
        "mrf_time = time.time() - mrf_start\n",
        "\n",
        "# 4. ĐÁNH GIÁ\n",
        "print(\"\\n--- Kết quả Pgmpy Markov Network (Tham số tùy chỉnh/ngẫu nhiên) ---\")\n",
        "print(\"pgmpy Markov Network Accuracy:\", accuracy_score(y_test, mrf_preds))\n",
        "print(\"pgmpy Markov Network AUC:\", roc_auc_score(y_test, mrf_probs))\n",
        "print(\"pgmpy Markov Network Train time: %.2fs\" % mrf_time)"
      ],
      "metadata": {
        "colab": {
          "base_uri": "https://localhost:8080/"
        },
        "id": "RUYiLUj4K0UQ",
        "outputId": "e7b9bd97-e051-4f1b-b3d4-1d3be48a53d6"
      },
      "execution_count": null,
      "outputs": [
        {
          "output_type": "stream",
          "name": "stdout",
          "text": [
            "Học tham số Markov Network thành công (Sử dụng tham số ngẫu nhiên để demo cấu trúc).\n",
            "\n",
            "--- Kết quả Pgmpy Markov Network (Tham số tùy chỉnh/ngẫu nhiên) ---\n",
            "pgmpy Markov Network Accuracy: 0.5543478260869565\n",
            "pgmpy Markov Network AUC: 0.5\n",
            "pgmpy Markov Network Train time: 0.10s\n"
          ]
        }
      ]
    },
    {
      "cell_type": "code",
      "source": [
        "# =======================================================\n",
        "# Bayesian Network với pomegranate (API mới 0.19+)\n",
        "# =======================================================\n",
        "import time\n",
        "import numpy as np\n",
        "import pandas as pd\n",
        "from sklearn.model_selection import train_test_split\n",
        "from sklearn.metrics import accuracy_score, roc_auc_score\n",
        "from sklearn.preprocessing import LabelEncoder\n",
        "\n",
        "\n",
        "# -------------------------------------------------------\n",
        "# 1. Chuẩn bị dữ liệu (đã rời rạc hóa trước đó)\n",
        "# -------------------------------------------------------\n",
        "df_pom = df_disc.copy()\n",
        "\n",
        "# Encode nhãn thành số nguyên vì Categorical yêu cầu numeric\n",
        "label_encoders = {}\n",
        "for col in df_pom.columns:\n",
        "    le = LabelEncoder()\n",
        "    df_pom[col] = le.fit_transform(df_pom[col])\n",
        "    label_encoders[col] = le\n",
        "\n",
        "# Train/test split\n",
        "train_pom, test_pom = train_test_split(\n",
        "    df_pom, test_size=0.1,\n",
        "    stratify=df_pom[target_col],\n",
        "    random_state=42\n",
        ")\n",
        "\n",
        "X_train_pom = train_pom.values\n",
        "X_test_pom = test_pom.drop(columns=[target_col]).values\n",
        "y_test_pom = test_pom[target_col].values\n",
        "\n",
        "# -------------------------------------------------------\n",
        "# 2. Huấn luyện Bayesian Network với pomegranate\n",
        "# -------------------------------------------------------\n",
        "start = time.time()\n",
        "pom_model = PomBN()\n",
        "pom_model = pom_model.fit(\n",
        "    X_train_pom,\n",
        "    algorithm=\"chow-liu\",        # hoặc \"exact\", \"greedy\"\n",
        "    state_names=df_pom.columns\n",
        ")\n",
        "pom_time = time.time() - start\n",
        "\n",
        "print(\"pomegranate Train time: %.2fs\" % pom_time)\n",
        "print(\"Structure:\", pom_model.structure)\n",
        "print(\"Distributions:\", pom_model.distributions)\n",
        "\n",
        "# -------------------------------------------------------\n",
        "# 3. Dự đoán với test set\n",
        "# -------------------------------------------------------\n",
        "probs = pom_model.predict_proba(X_test_pom)\n",
        "\n",
        "# Lấy index của cột target\n",
        "target_idx = list(df_pom.columns).index(target_col)\n",
        "\n",
        "pom_probs = []\n",
        "pom_preds = []\n",
        "for row in probs:\n",
        "    node_val = row[target_idx]\n",
        "    if isinstance(node_val, np.ndarray):\n",
        "        p1 = node_val[1]   # xác suất class = 1\n",
        "    else:\n",
        "        p1 = 0.5           # fallback nếu không phải array\n",
        "    pom_probs.append(p1)\n",
        "    pom_preds.append(1 if p1 >= 0.5 else 0)\n",
        "\n",
        "pom_probs = np.array(pom_probs)\n",
        "pom_preds = np.array(pom_preds)\n",
        "\n",
        "# -------------------------------------------------------\n",
        "# 4. Đánh giá\n",
        "# -------------------------------------------------------\n",
        "print(\"pomegranate Accuracy:\", accuracy_score(y_test_pom, pom_preds))\n",
        "print(\"pomegranate AUC:\", roc_auc_score(y_test_pom, pom_probs))\n"
      ],
      "metadata": {
        "id": "1IlPcbo7LP_8",
        "outputId": "d77d24a6-3beb-44ec-82ac-c7334845ad48",
        "colab": {
          "base_uri": "https://localhost:8080/",
          "height": 211
        }
      },
      "execution_count": 12,
      "outputs": [
        {
          "output_type": "error",
          "ename": "TypeError",
          "evalue": "BayesianNetwork.fit() got an unexpected keyword argument 'algorithm'",
          "traceback": [
            "\u001b[0;31m---------------------------------------------------------------------------\u001b[0m",
            "\u001b[0;31mTypeError\u001b[0m                                 Traceback (most recent call last)",
            "\u001b[0;32m/tmp/ipython-input-199677252.py\u001b[0m in \u001b[0;36m<cell line: 0>\u001b[0;34m()\u001b[0m\n\u001b[1;32m     38\u001b[0m \u001b[0mstart\u001b[0m \u001b[0;34m=\u001b[0m \u001b[0mtime\u001b[0m\u001b[0;34m.\u001b[0m\u001b[0mtime\u001b[0m\u001b[0;34m(\u001b[0m\u001b[0;34m)\u001b[0m\u001b[0;34m\u001b[0m\u001b[0;34m\u001b[0m\u001b[0m\n\u001b[1;32m     39\u001b[0m \u001b[0mpom_model\u001b[0m \u001b[0;34m=\u001b[0m \u001b[0mPomBN\u001b[0m\u001b[0;34m(\u001b[0m\u001b[0;34m)\u001b[0m\u001b[0;34m\u001b[0m\u001b[0;34m\u001b[0m\u001b[0m\n\u001b[0;32m---> 40\u001b[0;31m pom_model = pom_model.fit(\n\u001b[0m\u001b[1;32m     41\u001b[0m     \u001b[0mX_train_pom\u001b[0m\u001b[0;34m,\u001b[0m\u001b[0;34m\u001b[0m\u001b[0;34m\u001b[0m\u001b[0m\n\u001b[1;32m     42\u001b[0m     \u001b[0malgorithm\u001b[0m\u001b[0;34m=\u001b[0m\u001b[0;34m\"chow-liu\"\u001b[0m\u001b[0;34m,\u001b[0m        \u001b[0;31m# hoặc \"exact\", \"greedy\"\u001b[0m\u001b[0;34m\u001b[0m\u001b[0;34m\u001b[0m\u001b[0m\n",
            "\u001b[0;31mTypeError\u001b[0m: BayesianNetwork.fit() got an unexpected keyword argument 'algorithm'"
          ]
        }
      ]
    }
  ]
}